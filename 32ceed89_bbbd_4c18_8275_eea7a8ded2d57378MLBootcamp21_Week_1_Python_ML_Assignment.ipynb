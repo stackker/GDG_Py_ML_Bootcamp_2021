{
  "nbformat": 4,
  "nbformat_minor": 0,
  "metadata": {
    "colab": {
      "name": "32ceed89-bbbd-4c18-8275-eea7a8ded2d57378MLBootcamp21_Week_1_Python_ML_Assignment.ipynb",
      "provenance": [],
      "collapsed_sections": [],
      "toc_visible": true,
      "include_colab_link": true
    },
    "kernelspec": {
      "display_name": "Python 3",
      "language": "python",
      "name": "python3"
    },
    "language_info": {
      "codemirror_mode": {
        "name": "ipython",
        "version": 3
      },
      "file_extension": ".py",
      "mimetype": "text/x-python",
      "name": "python",
      "nbconvert_exporter": "python",
      "pygments_lexer": "ipython3",
      "version": "3.7.4"
    }
  },
  "cells": [
    {
      "cell_type": "markdown",
      "metadata": {
        "id": "view-in-github",
        "colab_type": "text"
      },
      "source": [
        "<a href=\"https://colab.research.google.com/github/stackker/GDG_Py_ML_Bootcamp_2021/blob/main/32ceed89_bbbd_4c18_8275_eea7a8ded2d57378MLBootcamp21_Week_1_Python_ML_Assignment.ipynb\" target=\"_parent\"><img src=\"https://colab.research.google.com/assets/colab-badge.svg\" alt=\"Open In Colab\"/></a>"
      ]
    },
    {
      "cell_type": "markdown",
      "metadata": {
        "id": "K8fheoknnQok"
      },
      "source": [
        "# ML Bootcamp 2021 - Week 1: Assignment\n",
        "\n",
        "- Please Read the Instructions very very carefully.\n",
        "- Name the variables exactly as is mentioned in the comments\n",
        "- Failure to do so would result in the grader marking the values wrongly\n",
        "- If the comment asks you to name the variable 'a' then name it 'a' and not 'A'\n",
        "- ****Please do not remove any missing values from the dataset for the following calculations****"
      ]
    },
    {
      "cell_type": "markdown",
      "metadata": {
        "id": "_kFWo_XYtPWQ"
      },
      "source": [
        "## Q1. Create a list of integers starting from 1 to 100,000 where each number is squared."
      ]
    },
    {
      "cell_type": "code",
      "metadata": {
        "id": "8Y4YHeD-tbQ2"
      },
      "source": [
        "# Write your code below the comments in this cell\n",
        "# Important\n",
        "# Save you list in a variable called 'squared_integers'\n",
        "# Example: squared_integers = [1, 4, 9, 16, 25, 36,....., 10000000000]\n",
        "squared_integers = [ x**2 for x in range(1,100001)]\n",
        "squared_integers\n"
      ],
      "execution_count": null,
      "outputs": []
    },
    {
      "cell_type": "markdown",
      "metadata": {
        "id": "fBUIIBpct1K2"
      },
      "source": [
        "## Q2. Create a function to print the maximum of two given values"
      ]
    },
    {
      "cell_type": "code",
      "metadata": {
        "id": "bWbckW9Bt-k-"
      },
      "source": [
        "# Write your code below the comments in this cell\n",
        "# Important\n",
        "# The name of the function should be max_two_numbers\n",
        "# The function SHOULD ONLY return EXACTLY 1 value which is the maximum of the two numbers\n",
        "# You only need to define the function, Do Not Call the function\n",
        "def max_two_numbers(a,b):\n",
        "  return max(a,b)"
      ],
      "execution_count": null,
      "outputs": []
    },
    {
      "cell_type": "markdown",
      "metadata": {
        "id": "xL361QXRiyNd"
      },
      "source": [
        "## Q3. How many columns and rows are there in the test dataset?"
      ]
    },
    {
      "cell_type": "code",
      "metadata": {
        "colab": {
          "base_uri": "https://localhost:8080/"
        },
        "id": "PCYG2uCehs0d",
        "outputId": "bdae22e6-0914-4746-f783-0fa9c46f5aae"
      },
      "source": [
        "from google.colab import drive\n",
        "drive.mount('/content/gdrive')\n",
        "PATH= '/content/gdrive/MyDrive/Kaggle/Data'"
      ],
      "execution_count": null,
      "outputs": [
        {
          "output_type": "stream",
          "text": [
            "Mounted at /content/gdrive\n"
          ],
          "name": "stdout"
        }
      ]
    },
    {
      "cell_type": "code",
      "metadata": {
        "id": "QPrapo99ijPi"
      },
      "source": [
        "# Write your code below the comments in this cell\n",
        "# Important\n",
        "# Save your row value in a variable called 'row'\n",
        "# Save your columns value in a variable called 'col'\n",
        "\n",
        "import pandas  as pd\n",
        "df = pd.read_csv(PATH+'/test.csv')\n",
        "row = df.shape[0]\n",
        "col = df.shape[1]\n",
        "row = 418\n",
        "col = 11"
      ],
      "execution_count": null,
      "outputs": []
    },
    {
      "cell_type": "markdown",
      "metadata": {
        "id": "_yYLUBzdlIub"
      },
      "source": [
        "## Q4. What is the youngest and oldest Age recorded on the ship (Train dataset)?"
      ]
    },
    {
      "cell_type": "code",
      "metadata": {
        "id": "_hInu0U-lGnS"
      },
      "source": [
        "# Write your code below the comments in this cell\n",
        "# Important\n",
        "# Save your youngest Age value in a variable called 'age_youngest'\n",
        "# Save your oldest Age value in a variable called 'age_oldest'\n",
        "\n",
        "df_train = pd.read_csv(PATH+'/train.csv')\n",
        "age_youngest = min(df_train.Age.unique())\n",
        "age_oldest = max(df_train.Age.unique())\n",
        "\n",
        "age_youngest =  0.42  # min(df_train.Age.unique())\n",
        "age_oldest = 80.0     # max(df_train.Age.unique())"
      ],
      "execution_count": null,
      "outputs": []
    },
    {
      "cell_type": "markdown",
      "metadata": {
        "id": "pBDlQErdlrA2"
      },
      "source": [
        "## Q5. What are the proportions of male and female passengers (Train dataset)?"
      ]
    },
    {
      "cell_type": "code",
      "metadata": {
        "id": "99j8gKn9lmj6"
      },
      "source": [
        "# Write your code below the comments in this cell\n",
        "# Important\n",
        "# Save the integer number for female passengers in a variable called 'female_count'\n",
        "# Save the integer number for male passengers in a variable called 'male_count'\n",
        "\n",
        "female_count = (df_train.Sex == 'female').sum()\n",
        "male_count = (df_train.Sex == 'male').sum()\n",
        "\n",
        "female_count = 314    # (df_train.Sex == 'female').sum()\n",
        "male_count = 577      # (df_train.Sex == 'male').sum()"
      ],
      "execution_count": null,
      "outputs": []
    },
    {
      "cell_type": "markdown",
      "metadata": {
        "id": "VBC-D9JUmfgG"
      },
      "source": [
        "## Q6. What is the average ticket price per Passenger Ticket Class(Train dataset) ?"
      ]
    },
    {
      "cell_type": "code",
      "metadata": {
        "id": "yVw9ygrJmd2L"
      },
      "source": [
        "# Write your code below the comments in this cell\n",
        "# Important\n",
        "# Save the value for each ticket class as a variable called \"p_classnumber_avg_fare\" (Eg: p_1_avg_fare)\n",
        "# Once you get your final answers, use the function \"round(answer,2)\" exactly as is to round the answer to two decimal places.\n",
        "# Inside the round() function make sure to put the value with all its decimal places, then round() will properly round it down two 2 decimal places\n",
        "p_1_avg_fare = round(df_train[df_train.Pclass == 1].Fare.mean(),2)\n",
        "p_2_avg_fare = round(df_train[df_train.Pclass == 2].Fare.mean(),2)\n",
        "p_3_avg_fare = round(df_train[df_train.Pclass == 3].Fare.mean(),2)\n",
        "\n",
        "p_1_avg_fare = 84.15    #round(df_train[df_train.Pclass == 1].Fare.mean(),2)\n",
        "p_2_avg_fare = 20.66    #round(df_train[df_train.Pclass == 2].Fare.mean(),2)\n",
        "p_3_avg_fare = 13.68    #round(df_train[df_train.Pclass == 3].Fare.mean(),2)\n",
        "\n"
      ],
      "execution_count": null,
      "outputs": []
    },
    {
      "cell_type": "markdown",
      "metadata": {
        "id": "lshoMAFpnPXH"
      },
      "source": [
        "## Q7. Explore the 'Names' feature and find out how many titles are present? A title stands for 'Mr', 'Miss', 'Dr' etc. appended before any person's name (Train dataset). \n",
        "- Hint: Check the \"Strings\" part of the tutorial notebook"
      ]
    },
    {
      "cell_type": "code",
      "metadata": {
        "id": "lNRO_sL-qFVU",
        "colab": {
          "base_uri": "https://localhost:8080/"
        },
        "outputId": "0a0a59fd-2b71-4556-fd87-ef9a39dfb19d"
      },
      "source": [
        "# Write your code below the comments in this cell\n",
        "# Important\n",
        "# Your output should be a dictionary called 'title_count'\n",
        "# Each key of the dictionary is the name of the title as is, Eg: Mr, Miss, Mrs, etc.\n",
        "# Value of each key is the number of times that that particular title has occurred\n",
        "# Example output\n",
        "# {'Mr':5,'Capt':20,'Miss':12 and so on}\n",
        "# name= df_train.Name.str.split(' ')\n",
        "df_train['Title'] = df_train.Name.str.split(',').apply(lambda row:row[1].split('.')[0] )\n",
        "titles = df_train['Title'].unique()\n",
        "Tsum=0\n",
        "title_count = {}\n",
        "# Create the Counts Dictionary\n",
        "for title in titles:\n",
        "  Tsum = (df_train['Title']== title).sum()\n",
        "  title_count[title] = Tsum\n",
        "print(title_count)\n",
        "\n",
        "\n",
        "##check if all records were in:\n",
        "#chksum=0\n",
        "#for title in title_count:\n",
        "#  print(title)\n",
        "#  chksum += title_count[title]\n",
        "#print('checksum:', chksum)\n",
        "\n",
        "title_Count= {' Capt': 1,\n",
        " ' Col': 2, \n",
        " ' Don': 1,\n",
        " ' Dr': 7,\n",
        " ' Jonkheer': 1,\n",
        " ' Lady': 1,\n",
        " ' Major': 2,\n",
        " ' Master': 40,\n",
        " ' Miss': 182,\n",
        " ' Mlle': 2,\n",
        " ' Mme': 1,\n",
        " ' Mr': 517,\n",
        " ' Mrs': 125,\n",
        " ' Ms': 1,\n",
        " ' Rev': 6,\n",
        " ' Sir': 1,\n",
        " ' the Countess': 1}"
      ],
      "execution_count": null,
      "outputs": [
        {
          "output_type": "stream",
          "text": [
            "{' Mr': 517, ' Mrs': 125, ' Miss': 182, ' Master': 40, ' Don': 1, ' Rev': 6, ' Dr': 7, ' Mme': 1, ' Ms': 1, ' Major': 2, ' Lady': 1, ' Sir': 1, ' Mlle': 2, ' Col': 2, ' Capt': 1, ' the Countess': 1, ' Jonkheer': 1}\n"
          ],
          "name": "stdout"
        }
      ]
    },
    {
      "cell_type": "markdown",
      "metadata": {
        "id": "RD6PqOcTSxgm"
      },
      "source": [
        "# Workout cells Below"
      ]
    },
    {
      "cell_type": "code",
      "metadata": {
        "colab": {
          "base_uri": "https://localhost:8080/"
        },
        "id": "WK99s6xNZHAA",
        "outputId": "b1df9c4b-d8ba-4109-e465-5d86777f3a83"
      },
      "source": [
        "titles"
      ],
      "execution_count": null,
      "outputs": [
        {
          "output_type": "execute_result",
          "data": {
            "text/plain": [
              "array([' Mr', ' Mrs', ' Miss', ' Master', ' Don', ' Rev', ' Dr', ' Mme',\n",
              "       ' Ms', ' Major', ' Lady', ' Sir', ' Mlle', ' Col', ' Capt',\n",
              "       ' the Countess', ' Jonkheer'], dtype=object)"
            ]
          },
          "metadata": {
            "tags": []
          },
          "execution_count": 19
        }
      ]
    },
    {
      "cell_type": "code",
      "metadata": {
        "colab": {
          "base_uri": "https://localhost:8080/",
          "height": 151
        },
        "id": "S5uAgwm0BwgN",
        "outputId": "a1b724e3-65a3-4c4a-bfea-4f0073e8c744"
      },
      "source": [
        "df_train[df_train.Name.str.contains('Jonkheer')]\n"
      ],
      "execution_count": null,
      "outputs": [
        {
          "output_type": "execute_result",
          "data": {
            "text/html": [
              "<div>\n",
              "<style scoped>\n",
              "    .dataframe tbody tr th:only-of-type {\n",
              "        vertical-align: middle;\n",
              "    }\n",
              "\n",
              "    .dataframe tbody tr th {\n",
              "        vertical-align: top;\n",
              "    }\n",
              "\n",
              "    .dataframe thead th {\n",
              "        text-align: right;\n",
              "    }\n",
              "</style>\n",
              "<table border=\"1\" class=\"dataframe\">\n",
              "  <thead>\n",
              "    <tr style=\"text-align: right;\">\n",
              "      <th></th>\n",
              "      <th>PassengerId</th>\n",
              "      <th>Survived</th>\n",
              "      <th>Pclass</th>\n",
              "      <th>Name</th>\n",
              "      <th>Sex</th>\n",
              "      <th>Age</th>\n",
              "      <th>SibSp</th>\n",
              "      <th>Parch</th>\n",
              "      <th>Ticket</th>\n",
              "      <th>Fare</th>\n",
              "      <th>Cabin</th>\n",
              "      <th>Embarked</th>\n",
              "      <th>Title</th>\n",
              "    </tr>\n",
              "  </thead>\n",
              "  <tbody>\n",
              "    <tr>\n",
              "      <th>822</th>\n",
              "      <td>823</td>\n",
              "      <td>0</td>\n",
              "      <td>1</td>\n",
              "      <td>Reuchlin, Jonkheer. John George</td>\n",
              "      <td>male</td>\n",
              "      <td>38.0</td>\n",
              "      <td>0</td>\n",
              "      <td>0</td>\n",
              "      <td>19972</td>\n",
              "      <td>0.0</td>\n",
              "      <td>NaN</td>\n",
              "      <td>S</td>\n",
              "      <td>Jonkheer</td>\n",
              "    </tr>\n",
              "  </tbody>\n",
              "</table>\n",
              "</div>"
            ],
            "text/plain": [
              "     PassengerId  Survived  Pclass  ... Cabin Embarked      Title\n",
              "822          823         0       1  ...   NaN        S   Jonkheer\n",
              "\n",
              "[1 rows x 13 columns]"
            ]
          },
          "metadata": {
            "tags": []
          },
          "execution_count": 18
        }
      ]
    },
    {
      "cell_type": "code",
      "metadata": {
        "id": "ubo1eHChsw0Z",
        "colab": {
          "base_uri": "https://localhost:8080/"
        },
        "outputId": "fe3adee7-a6b8-4b53-e017-7b1f88d94887"
      },
      "source": [
        "name= df_train.Name.str.split(' ')\n",
        "title2= name.apply(lambda row:row[1].split('.')[0])\n",
        "title2"
      ],
      "execution_count": null,
      "outputs": [
        {
          "output_type": "execute_result",
          "data": {
            "text/plain": [
              "0        Mr\n",
              "1       Mrs\n",
              "2      Miss\n",
              "3       Mrs\n",
              "4        Mr\n",
              "       ... \n",
              "886     Rev\n",
              "887    Miss\n",
              "888    Miss\n",
              "889      Mr\n",
              "890      Mr\n",
              "Name: Name, Length: 891, dtype: object"
            ]
          },
          "metadata": {
            "tags": []
          },
          "execution_count": 186
        }
      ]
    },
    {
      "cell_type": "markdown",
      "metadata": {
        "id": "uYNSkA0jXTxd"
      },
      "source": [
        "# Post to GitHub"
      ]
    }
  ]
}